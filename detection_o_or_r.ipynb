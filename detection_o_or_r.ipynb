{
 "cells": [
  {
   "cell_type": "code",
   "execution_count": null,
   "metadata": {
    "id": "3gusR8754zuB"
   },
   "outputs": [],
   "source": [
    "import tensorflow as tf\n",
    "import numpy as np\n",
    "import matplotlib.pyplot as plt\n",
    "import seaborn as sns\n",
    "import pandas as pd\n",
    "from tensorflow.keras.models import load_model\n",
    "from tensorflow.keras.preprocessing.image import ImageDataGenerator\n",
    "from sklearn.metrics import confusion_matrix, accuracy_score\n",
    "from sklearn.model_selection import StratifiedKFold, KFold, RepeatedKFold, train_test_split\n",
    "from sklearn.preprocessing import LabelEncoder"
   ]
  },
  {
   "cell_type": "code",
   "execution_count": null,
   "metadata": {
    "colab": {
     "base_uri": "https://localhost:8080/"
    },
    "id": "zbtD-lrS53Gd",
    "outputId": "fcf8f61a-11a7-43b0-8514-f417778cfd70"
   },
   "outputs": [
    {
     "name": "stdout",
     "output_type": "stream",
     "text": [
      "Drive already mounted at /content/drive; to attempt to forcibly remount, call drive.mount(\"/content/drive\", force_remount=True).\n"
     ]
    }
   ],
   "source": [
    "from google.colab import drive\n",
    "drive.mount('/content/drive')"
   ]
  },
  {
   "cell_type": "code",
   "execution_count": null,
   "metadata": {
    "id": "2_bSdXaHvGDf"
   },
   "outputs": [],
   "source": [
    "train_path = '/content/drive/MyDrive/deteksi-gambar/data/training'"
   ]
  },
  {
   "cell_type": "code",
   "execution_count": null,
   "metadata": {
    "id": "Ruy8gO-v6I3J"
   },
   "outputs": [],
   "source": [
    "def get_model(IMG_SIZE):\n",
    "    model = tf.keras.models.Sequential([\n",
    "        # Model layers\n",
    "        tf.keras.layers.Conv2D(16, (3,3), activation='relu', input_shape=(IMG_SIZE, IMG_SIZE, 3)),\n",
    "        tf.keras.layers.MaxPooling2D(2, 2),\n",
    "        tf.keras.layers.Conv2D(32, (3,3), activation='relu'),\n",
    "        tf.keras.layers.MaxPooling2D(2, 2),\n",
    "        tf.keras.layers.Conv2D(64, (3,3), activation='relu'),\n",
    "        tf.keras.layers.MaxPooling2D(2, 2),\n",
    "        tf.keras.layers.Conv2D(64, (3,3), activation='relu'),\n",
    "        tf.keras.layers.MaxPooling2D(2, 2),\n",
    "        tf.keras.layers.Flatten(),\n",
    "        tf.keras.layers.Dropout(0.5),\n",
    "        tf.keras.layers.Dense(256, activation='relu'),\n",
    "        tf.keras.layers.Dense(1, activation='sigmoid')\n",
    "    ])\n",
    "\n",
    "    model.compile(loss='binary_crossentropy', optimizer='adam', metrics=['accuracy'])\n",
    "    return model\n",
    "    model.summary()"
   ]
  },
  {
   "cell_type": "code",
   "execution_count": null,
   "metadata": {
    "id": "302WlV_FvwNj"
   },
   "outputs": [],
   "source": [
    "#store keselurhan predictor\n",
    "main_pred = []\n",
    "error = []"
   ]
  },
  {
   "cell_type": "code",
   "execution_count": null,
   "metadata": {
    "id": "Dezqap8HwTW_"
   },
   "outputs": [],
   "source": [
    "IMG_SIZE = 150\n",
    "BATCH_SIZE = 32\n",
    "EPOCHS = 100\n",
    "N_SPLIT = 5"
   ]
  },
  {
   "cell_type": "code",
   "execution_count": null,
   "metadata": {
    "id": "Rl2_JT0hwqwj"
   },
   "outputs": [],
   "source": [
    "#menetapkan nilai per-foldnya\n",
    "acc_per_fold = []\n",
    "loss_per_fold = []"
   ]
  },
  {
   "cell_type": "code",
   "execution_count": null,
   "metadata": {
    "id": "YISbSCjWw4Os"
   },
   "outputs": [],
   "source": [
    "#inisialisasi generator data\n",
    "train_datagen = ImageDataGenerator(rescale=1./255,\n",
    "                                   shear_range=0.2,\n",
    "                                   zoom_range = 0.2,\n",
    "                                   horizontal_flip = True)\n",
    "validation_datagen = ImageDataGenerator(rescale=1./255)"
   ]
  },
  {
   "cell_type": "code",
   "execution_count": null,
   "metadata": {
    "id": "FIz3kkbrz17d"
   },
   "outputs": [],
   "source": [
    "#inisialisasi k-fold\n",
    "kfold = StratifiedKFold(n_splits=N_SPLIT,\n",
    "                        shuffle = True,\n",
    "                        random_stats = 42)"
   ]
  },
  {
   "cell_type": "code",
   "execution_count": null,
   "metadata": {
    "collapsed": false
   },
   "outputs": [],
   "source": [
    "#variable menghitung setiap pembagiaannya\n",
    "j = 0"
   ]
  },
  {
   "cell_type": "code",
   "execution_count": null,
   "metadata": {
    "collapsed": false
   },
   "outputs": [],
   "source": [
    "#kfold traing dan test untuk setiap pembagiannya\n",
    "for train_idx, val_idx in list(kfold.split(train_path, None)):\n",
    "    j += 1\n",
    "\n",
    "    training_set = train_datagen.flow_from_directory(train_path,\n",
    "                                                     target_size=(IMG_SIZE, IMG_SIZE),\n",
    "                                                     batch_size=BATCH_SIZE,\n",
    "                                                     class_mode=\"binary\",\n",
    "                                                     subset='training',\n",
    "                                                     shuffle=True)\n",
    "    validation_set = validation_datagen.flow_from_directory(train_path,\n",
    "                                                            target_size=(IMG_SIZE, IMG_SIZE),\n",
    "                                                            batch_size=BATCH_SIZE,\n",
    "                                                            class_mode=\"binary\",\n",
    "                                                            subset='validation',\n",
    "                                                            shuffle=False)\n",
    "\n",
    "    model = get_model(IMG_SIZE)\n",
    "\n",
    "    history = model.fit(training_set,\n",
    "                        validation_data=validation_set,\n",
    "                        epochs=EPOCHS,\n",
    "                        steps_per_epoch=training_set.samples // BATCH_SIZE,\n",
    "                        validation_steps=validation_set.samples // BATCH_SIZE)\n",
    "\n",
    "    plt.plot(history.history['loss'], label='Loss')\n",
    "    plt.plot(history.history['accuracy'], label='Accuracy')\n",
    "    plt.title(f'Model Accuracy and Loss Fold {j}')\n",
    "    plt.ylabel('val')\n",
    "    plt.xlabel('No. Epoch')\n",
    "    plt.legend(loc=\"upper left\")\n",
    "    plt.show()\n",
    "\n",
    "    scores = model.evaluate(validation_set, verbose=0)\n",
    "\n",
    "    pred = model.predict(validation_set)\n",
    "    y_pred = np.argmax(pred, axis=1)\n",
    "\n",
    "    cf_matrix = confusion_matrix(validation_set.classes, y_pred)\n",
    "    f, ax = plt.subplot(figsize=(9, 6))\n",
    "    sns.heatmap(cf_matrix, annot=True, fmt=\"d\", linewidths=.5, ax=ax)\n",
    "    plt.xlabel('y_pred')\n",
    "    plt.ylabel('y_true')\n",
    "    ax.xaxis.set_ticklabels(['organic', 'inorganic'])\n",
    "    ax.yaxis.set_ticklabels(['organic', 'inorganic'])\n",
    "    plt.show()\n",
    "\n",
    "    model.save(f'/content/drive/MyDrive/deteksi-gambar/model/model{j}.h5')\n",
    "    print(f'Score for fold {j}: {model.metrics_names[0]} of {scores[0]}; {model.metrics_names[1]} of {scores[1]*100}%')\n",
    "    acc_per_fold.append(scores[1]*100)\n",
    "    loss_per_fold.append(scores[0])"
   ]
  }
 ],
 "metadata": {
  "colab": {
   "provenance": []
  },
  "kernelspec": {
   "display_name": "Python 3",
   "name": "python3"
  },
  "language_info": {
   "name": "python"
  }
 },
 "nbformat": 4,
 "nbformat_minor": 0
}
