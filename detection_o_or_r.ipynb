{
  "cells": [
    {
      "cell_type": "code",
      "execution_count": 1,
      "metadata": {
        "id": "3gusR8754zuB"
      },
      "outputs": [],
      "source": [
        "import tensorflow as tf\n",
        "import numpy as np\n",
        "import matplotlib.pyplot as plt\n",
        "import seaborn as sns\n",
        "import pandas as pd\n",
        "from tensorflow.keras.models import load_model\n",
        "from tensorflow.keras.preprocessing.image import ImageDataGenerator\n",
        "from sklearn.metrics import confusion_matrix, accuracy_score\n",
        "from sklearn.model_selection import StratifiedKFold, KFold, RepeatedKFold, train_test_split\n",
        "from sklearn.preprocessing import LabelEncoder"
      ]
    },
    {
      "cell_type": "code",
      "execution_count": 2,
      "metadata": {
        "id": "vsXAXtdzeBAZ"
      },
      "outputs": [],
      "source": [
        "tf.config.run_functions_eagerly(True)"
      ]
    },
    {
      "cell_type": "code",
      "execution_count": 3,
      "metadata": {
        "colab": {
          "base_uri": "https://localhost:8080/"
        },
        "id": "zbtD-lrS53Gd",
        "outputId": "2e67e7b3-2058-4a21-ae10-aa15a4cdcf25"
      },
      "outputs": [
        {
          "output_type": "stream",
          "name": "stdout",
          "text": [
            "Drive already mounted at /content/drive; to attempt to forcibly remount, call drive.mount(\"/content/drive\", force_remount=True).\n"
          ]
        }
      ],
      "source": [
        "from google.colab import drive\n",
        "drive.mount('/content/drive')"
      ]
    },
    {
      "cell_type": "code",
      "execution_count": 4,
      "metadata": {
        "id": "2_bSdXaHvGDf"
      },
      "outputs": [],
      "source": [
        "train_path = '/content/drive/MyDrive/deteksi-gambar/data/training'"
      ]
    },
    {
      "cell_type": "code",
      "execution_count": 5,
      "metadata": {
        "id": "Ruy8gO-v6I3J"
      },
      "outputs": [],
      "source": [
        "def get_model(IMG_SIZE):\n",
        "    model = Sequential([\n",
        "        # Model layers\n",
        "        Conv2D(16, (3,3), activation='relu', input_shape=(IMG_SIZE, IMG_SIZE, 3)),\n",
        "        MaxPooling2D(2, 2),\n",
        "        Conv2D(32, (3,3), activation='relu'),\n",
        "        MaxPooling2D(2, 2),\n",
        "        Conv2D(64, (3,3), activation='relu'),\n",
        "        MaxPooling2D(2, 2),\n",
        "        Conv2D(64, (3,3), activation='relu'),\n",
        "        MaxPooling2D(2, 2),\n",
        "        Flatten(),\n",
        "        Dropout(0.5),\n",
        "        Dense(256, activation='relu'),\n",
        "        Dense(1, activation='sigmoid')\n",
        "    ])\n",
        "\n",
        "    model.compile(loss='binary_crossentropy', optimizer='adam', metrics=['accuracy'])\n",
        "    return model"
      ]
    },
    {
      "cell_type": "code",
      "execution_count": 6,
      "metadata": {
        "id": "302WlV_FvwNj"
      },
      "outputs": [],
      "source": [
        "#store keselurhan predictor\n",
        "main_pred = []\n",
        "error = []"
      ]
    },
    {
      "cell_type": "code",
      "execution_count": 7,
      "metadata": {
        "id": "Dezqap8HwTW_"
      },
      "outputs": [],
      "source": [
        "IMG_SIZE = 150\n",
        "BATCH_SIZE = 32\n",
        "EPOCHS = 100\n",
        "N_SPLIT = 5"
      ]
    },
    {
      "cell_type": "code",
      "execution_count": 8,
      "metadata": {
        "id": "Rl2_JT0hwqwj"
      },
      "outputs": [],
      "source": [
        "#menetapkan nilai per-foldnya\n",
        "acc_per_fold = []\n",
        "loss_per_fold = []"
      ]
    },
    {
      "cell_type": "code",
      "execution_count": 9,
      "metadata": {
        "id": "YISbSCjWw4Os"
      },
      "outputs": [],
      "source": [
        "#inisialisasi generator data\n",
        "datagen = ImageDataGenerator(rescale=1./255,\n",
        "                             shear_range=0.2,\n",
        "                             zoom_range=0.2,\n",
        "                             horizontal_flip=True)"
      ]
    },
    {
      "cell_type": "code",
      "execution_count": 10,
      "metadata": {
        "colab": {
          "base_uri": "https://localhost:8080/"
        },
        "id": "FIz3kkbrz17d",
        "outputId": "a98241d8-52e9-4efd-c449-c120b18ebf1c"
      },
      "outputs": [
        {
          "output_type": "stream",
          "name": "stdout",
          "text": [
            "Found 22564 images belonging to 2 classes.\n"
          ]
        }
      ],
      "source": [
        "#inisialisasi k-fold\n",
        "data_gen = datagen.flow_from_directory(train_path,\n",
        "                                       target_size=(IMG_SIZE, IMG_SIZE),\n",
        "                                       batch_size=BATCH_SIZE,\n",
        "                                       class_mode=\"binary\",\n",
        "                                       shuffle=True)"
      ]
    },
    {
      "cell_type": "code",
      "execution_count": 11,
      "metadata": {
        "id": "cCbWTzGbW7ai"
      },
      "outputs": [],
      "source": [
        "data, labels=next(data_gen)"
      ]
    },
    {
      "cell_type": "code",
      "execution_count": 12,
      "metadata": {
        "id": "izfciRboXFUy"
      },
      "outputs": [],
      "source": [
        "# kfold = StratifiedKFold(n_splits=N_SPLIT,\n",
        "#                          shuffle=True,\n",
        "#                          random_state=42)"
      ]
    },
    {
      "cell_type": "code",
      "execution_count": 13,
      "metadata": {
        "id": "-jpIdG5_Tcqu"
      },
      "outputs": [],
      "source": [
        "#variable menghitung setiap pembagiaannya\n",
        "j = 0"
      ]
    },
    {
      "cell_type": "code",
      "execution_count": 14,
      "metadata": {
        "colab": {
          "base_uri": "https://localhost:8080/",
          "height": 130
        },
        "id": "k4lIaWDnTcqu",
        "outputId": "529c5d9b-c401-46d9-b950-13454fc65983"
      },
      "outputs": [
        {
          "output_type": "error",
          "ename": "IndentationError",
          "evalue": "ignored",
          "traceback": [
            "\u001b[0;36m  File \u001b[0;32m\"<ipython-input-14-cbe929eaf469>\"\u001b[0;36m, line \u001b[0;32m3\u001b[0m\n\u001b[0;31m    model = get_model(IMG_SIZE)\u001b[0m\n\u001b[0m    ^\u001b[0m\n\u001b[0;31mIndentationError\u001b[0m\u001b[0;31m:\u001b[0m unexpected indent\n"
          ]
        }
      ],
      "source": [
        "#kfold traing dan test untuk setiap pembagianny\n",
        "\n",
        "    model = get_model(IMG_SIZE)\n",
        "\n",
        "    history = model.fit(data,\n",
        "                        labels,\n",
        "                        epochs=EPOCHS,\n",
        "                        steps_per_epoch=len(x_train) // BATCH_SIZE,\n",
        "                        validation_steps=len(x_valid) // BATCH_SIZE)\n",
        "\n",
        "    plt.plot(history.history['loss'], label='Loss')\n",
        "    plt.plot(history.history['accuracy'], label='Accuracy')\n",
        "    plt.title(f'Model Accuracy and Loss Fold {j}')\n",
        "    plt.ylabel('val')\n",
        "    plt.xlabel('No. Epoch')\n",
        "    plt.legend(loc=\"upper left\")\n",
        "    plt.show()\n",
        "\n",
        "    scores = model.evaluate(validation_set, verbose=0)\n",
        "\n",
        "    pred = model.predict(validation_set)\n",
        "    y_pred = np.argmax(pred, axis=1)\n",
        "\n",
        "    cf_matrix = confusion_matrix(validation_set.classes, y_pred)\n",
        "    f, ax = plt.subplot(figsize=(9, 6))\n",
        "    sns.heatmap(cf_matrix, annot=True, fmt=\"d\", linewidths=.5, ax=ax)\n",
        "    plt.xlabel('y_pred')\n",
        "    plt.ylabel('y_true')\n",
        "    ax.xaxis.set_ticklabels(['organic', 'inorganic'])\n",
        "    ax.yaxis.set_ticklabels(['organic', 'inorganic'])\n",
        "    plt.show()\n",
        "\n",
        "    model.save(f'/content/drive/MyDrive/deteksi-gambar/model/model{j}.h5')\n",
        "    print(f'Score for fold {j}: {model.metrics_names[0]} of {scores[0]}; {model.metrics_names[1]} of {scores[1]*100}%')\n",
        "    acc_per_fold.append(scores[1]*100)\n",
        "    loss_per_fold.append(scores[0])"
      ]
    },
    {
      "cell_type": "code",
      "execution_count": null,
      "metadata": {
        "id": "RYkB7lIMUhHC"
      },
      "outputs": [],
      "source": []
    }
  ],
  "metadata": {
    "colab": {
      "provenance": []
    },
    "kernelspec": {
      "display_name": "Python 3",
      "name": "python3"
    },
    "language_info": {
      "name": "python"
    }
  },
  "nbformat": 4,
  "nbformat_minor": 0
}